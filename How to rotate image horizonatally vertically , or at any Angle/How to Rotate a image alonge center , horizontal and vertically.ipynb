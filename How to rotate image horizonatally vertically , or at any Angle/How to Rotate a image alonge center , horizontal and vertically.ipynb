{
 "cells": [
  {
   "cell_type": "code",
   "execution_count": 5,
   "metadata": {},
   "outputs": [],
   "source": [
    "#import requiredd Library for the process\n",
    "import cv2\n",
    "import numpy as np\n",
    "\n",
    "\n",
    "#store the image in any variable\n",
    "\n",
    "input_image = cv2.imread('Ashish.jpg')\n",
    "cv2.imshow('original Image',input_image)\n",
    "\n",
    "\n",
    "# here we try to know the height and weidth of the image for the rotation \n",
    "height , width = input_image.shape[:2]\n",
    "\n",
    "# for rotation we use the function name getRotationMatrix2D and rotate the image through its center by using the height and width\n",
    "rotation = cv2.getRotationMatrix2D((width/2,height/2),45,0.5)\n",
    "\n",
    "rotate_image_output = cv2.warpAffine(input_image , rotation,(width,height))\n",
    "\n",
    "cv2.imshow('Rotated Image',rotate_image_output)\n",
    "cv2.waitKey(0)\n",
    "cv2.destroyAllWindows()"
   ]
  },
  {
   "cell_type": "markdown",
   "metadata": {},
   "source": [
    "Rotation of the image horizontal"
   ]
  },
  {
   "cell_type": "code",
   "execution_count": 10,
   "metadata": {},
   "outputs": [],
   "source": [
    "horizontal_image = cv2.flip(input_image,1)\n",
    "cv2.imshow('Horizontal Flipped Image ', horizontal_image)\n",
    "cv2.waitKey(0)\n",
    "cv2.destroyAllWindows()"
   ]
  },
  {
   "cell_type": "markdown",
   "metadata": {},
   "source": [
    "Rotation of the image vertically"
   ]
  },
  {
   "cell_type": "code",
   "execution_count": 11,
   "metadata": {},
   "outputs": [],
   "source": [
    "vertical_image = cv2.flip(input_image,0)\n",
    "cv2.imshow('vertically Flipped Image ', vertical_image)\n",
    "cv2.waitKey(0)\n",
    "cv2.destroyAllWindows()"
   ]
  }
 ],
 "metadata": {
  "kernelspec": {
   "display_name": "Python 3",
   "language": "python",
   "name": "python3"
  },
  "language_info": {
   "codemirror_mode": {
    "name": "ipython",
    "version": 3
   },
   "file_extension": ".py",
   "mimetype": "text/x-python",
   "name": "python",
   "nbconvert_exporter": "python",
   "pygments_lexer": "ipython3",
   "version": "3.7.6"
  }
 },
 "nbformat": 4,
 "nbformat_minor": 4
}
