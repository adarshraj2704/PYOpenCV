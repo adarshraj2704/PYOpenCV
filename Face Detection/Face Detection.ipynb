{
 "cells": [
  {
   "cell_type": "code",
   "execution_count": 8,
   "metadata": {},
   "outputs": [],
   "source": [
    "# import the required library for the process\n",
    "import numpy as np\n",
    "import cv2"
   ]
  },
  {
   "cell_type": "code",
   "execution_count": 14,
   "metadata": {},
   "outputs": [],
   "source": [
    "#load the image into classify face variable using the function name CascadeClassifier\n",
    "\n",
    "classify_face = cv2.CascadeClassifier('haarcascade_frontalface_default.xml')\n",
    "\n",
    "# load input image \n",
    "imagedata_original = cv2.imread('Ashish.jpg')\n",
    "cv2.imshow ('Origianl Image Result ', imagedata_original)\n",
    "cv2.waitKey(0)\n",
    "\n",
    "# convert the load image into grayscale image for better identification of face\n",
    "grayscale_img = cv2.cvtColor(imagedata_original, cv2.COLOR_BGR2GRAY)\n",
    "cv2.imshow ('Gray Scale image Results ', grayscale_img)\n",
    "cv2.waitKey(0)\n",
    "\n",
    "# Region of intrest detected the face ,stored as tuple of the left coordinate and bottom right coordinate \n",
    "face_roi = classify_face.detectMultiScale(grayscale_img ,1.3,2)\n",
    "\n",
    "\n",
    "\n",
    "#check the face is detected or not \n",
    "if face_roi is ():\n",
    "    print(\"Face are not Detected , please provide another image .\")\n",
    "    \n",
    "\n",
    "\n",
    "# iterate through face and draw a rectangle over each face    \n",
    "for (x,y,w,h) in face_roi:\n",
    "    cv2.rectangle(imagedata_original,(x,y),(x+w,y+h),(127,0,255),2)\n",
    "cv2.imshow ('Face Detection Results ', imagedata_original)\n",
    "    \n",
    "cv2.waitKey(0)\n",
    "cv2.destroyAllWindows()"
   ]
  }
 ],
 "metadata": {
  "kernelspec": {
   "display_name": "Python 3",
   "language": "python",
   "name": "python3"
  },
  "language_info": {
   "codemirror_mode": {
    "name": "ipython",
    "version": 3
   },
   "file_extension": ".py",
   "mimetype": "text/x-python",
   "name": "python",
   "nbconvert_exporter": "python",
   "pygments_lexer": "ipython3",
   "version": "3.7.6"
  }
 },
 "nbformat": 4,
 "nbformat_minor": 4
}
