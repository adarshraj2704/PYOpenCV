{
 "cells": [
  {
   "cell_type": "code",
   "execution_count": 1,
   "metadata": {},
   "outputs": [],
   "source": [
    "# import the required library for the process\n",
    "import numpy as np\n",
    "import cv2"
   ]
  },
  {
   "cell_type": "code",
   "execution_count": null,
   "metadata": {},
   "outputs": [],
   "source": [
    "#load the image into classify face variable using the function name CascadeClassifier\n",
    "\n",
    "classify_face = cv2.CascadeClassifier('haarcascade_frontalface_default.xml')\n",
    "classify_eye = cv2.CascadeClassifier ('haarcascade_eye.xml')\n",
    "\n",
    "# function to detect the face and eye in real time using webcamera \n",
    "def detect_face_and_eyes (img, size = 0.5):\n",
    "    grayscaling = cv2.cvtColor(img,cv2.COLOR_BGR2GRAY)\n",
    "    face_roi = classify_face.detectMultiScale(grayscaling,1.3,5)\n",
    "    if face_roi is ():\n",
    "        return img\n",
    "    \n",
    "    for (x,y,w,h)  in face_roi:\n",
    "        x=x-50\n",
    "        w= w+50\n",
    "        y=y-50\n",
    "        h=h+50\n",
    "        cv2.rectangle(img,(x,y),(x+w,y+h),(255,0,255),2)\n",
    "        gray_crop = grayscaling[y:y+h,x:x+w]\n",
    "        color_crop = img[y:y+h,x:x+w]\n",
    "        eyes = classify_eye.detectMultiScale(gray_crop)\n",
    "        \n",
    "        for (ex,ey,ew,eh) in eyes:\n",
    "            cv2.rectangle(color_crop,(ex,ey),(ex+ew,ey+eh),(0,255,255),2)\n",
    "            \n",
    "            \n",
    "    color_crop = cv2.flip(color_crop,1)\n",
    "    return color_crop\n",
    "\n",
    "\n",
    "cap = cv2.VideoCapture(0)\n",
    "\n",
    "while True :\n",
    "    ret, frame = cap.read()\n",
    "    cv2.imshow('live face detection ', detect_face_and_eyes(frame))\n",
    "    if cv2.waitKey(1) & 0xFF == ord('q'):\n",
    "        break\n",
    "        \n",
    "        \n",
    "cap.release()\n",
    "cv2.destroyAllWindows()"
   ]
  }
 ],
 "metadata": {
  "kernelspec": {
   "display_name": "Python 3",
   "language": "python",
   "name": "python3"
  },
  "language_info": {
   "codemirror_mode": {
    "name": "ipython",
    "version": 3
   },
   "file_extension": ".py",
   "mimetype": "text/x-python",
   "name": "python",
   "nbconvert_exporter": "python",
   "pygments_lexer": "ipython3",
   "version": "3.7.6"
  }
 },
 "nbformat": 4,
 "nbformat_minor": 4
}
