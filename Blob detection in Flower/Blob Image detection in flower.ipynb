{
 "cells": [
  {
   "cell_type": "code",
   "execution_count": 1,
   "metadata": {},
   "outputs": [],
   "source": [
    "# import the required library for the process\n",
    "import cv2\n",
    "import numpy as np"
   ]
  },
  {
   "cell_type": "code",
   "execution_count": 2,
   "metadata": {},
   "outputs": [
    {
     "data": {
      "text/plain": [
       "<function destroyAllWindows>"
      ]
     },
     "execution_count": 2,
     "metadata": {},
     "output_type": "execute_result"
    }
   ],
   "source": [
    "# loading the image in variable \n",
    "image_data= cv2.imread('Flower.jpg',0)\n",
    "cv2.imshow('original Image',image_data)\n",
    "cv2.waitKey(0)\n",
    "cv2.destroyAllWindows\n",
    "\n",
    "# creating the object of the blob dectrors\n",
    "detectorobj=cv2.SimpleBlobDetector_create()\n",
    "\n",
    "# passing the object \n",
    "keypoint_info = detectorobj.detect(image_data)\n",
    "\n",
    "# creating the blank image on which the output result is open\n",
    "blank_img = np.zeros((1,1))\n",
    "\n",
    "# using the drawKey function to gain the output\n",
    "blobs = cv2.drawKeypoints(image_data,keypoint_info,np.array([]),(255,0,255),cv2.DRAW_MATCHES_FLAGS_DRAW_RICH_KEYPOINTS)\n",
    "\n",
    "cv2.imshow('bLOB',blobs)\n",
    "cv2.waitKey(0)\n",
    "cv2.destroyAllWindows"
   ]
  }
 ],
 "metadata": {
  "kernelspec": {
   "display_name": "Python 3",
   "language": "python",
   "name": "python3"
  },
  "language_info": {
   "codemirror_mode": {
    "name": "ipython",
    "version": 3
   },
   "file_extension": ".py",
   "mimetype": "text/x-python",
   "name": "python",
   "nbconvert_exporter": "python",
   "pygments_lexer": "ipython3",
   "version": "3.7.6"
  }
 },
 "nbformat": 4,
 "nbformat_minor": 4
}
