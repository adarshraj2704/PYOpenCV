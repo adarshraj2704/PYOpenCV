{
 "cells": [
  {
   "cell_type": "markdown",
   "metadata": {},
   "source": [
    "# How to Read the Image And how to convert it into Black & White Mode."
   ]
  },
  {
   "cell_type": "code",
   "execution_count": 21,
   "metadata": {},
   "outputs": [
    {
     "name": "stdout",
     "output_type": "stream",
     "text": [
      "Requirement already satisfied: opencv-python in c:\\users\\hp\\anaconda3\\lib\\site-packages (4.5.1.48)\n",
      "Requirement already satisfied: numpy>=1.14.5 in c:\\users\\hp\\anaconda3\\lib\\site-packages (from opencv-python) (1.18.1)\n"
     ]
    }
   ],
   "source": [
    "#Install the required package for this process\n",
    "!pip install opencv-python"
   ]
  },
  {
   "cell_type": "code",
   "execution_count": 22,
   "metadata": {},
   "outputs": [],
   "source": [
    "#import the required Library from the package\n",
    "import numpy as np\n",
    "import cv2"
   ]
  },
  {
   "cell_type": "code",
   "execution_count": 23,
   "metadata": {},
   "outputs": [],
   "source": [
    "#Store the image in particular variable using imread function by passing their location or name if they present on same directory\n",
    "image_data =cv2.imread('Ashish.png')"
   ]
  },
  {
   "cell_type": "code",
   "execution_count": 25,
   "metadata": {},
   "outputs": [
    {
     "name": "stdout",
     "output_type": "stream",
     "text": [
      "(674, 744, 3)\n"
     ]
    }
   ],
   "source": [
    "#Shape function is used to determine the length,width and channel(Color components of the image) \n",
    "print (image_data.shape)"
   ]
  },
  {
   "cell_type": "code",
   "execution_count": 28,
   "metadata": {},
   "outputs": [],
   "source": [
    "# imshow function is used to show the loaded image. \n",
    "# it is done by passing the two argument first is the tittle of the pop window and 2nd one is load image variable\n",
    "cv2.imshow('First Image',image_data)\n",
    "# waitkey is used to give the time of the pop up image window if it is zero then it open for infinite time untill you close else if you give some value like 5000 then it open for 5 sec and automatically it will cloase\n",
    "cv2.waitKey(0)\n",
    "# it is very important to destroy the componet and close the window\n",
    "cv2.destroyAllWindows()"
   ]
  },
  {
   "cell_type": "code",
   "execution_count": 30,
   "metadata": {},
   "outputs": [],
   "source": [
    "# their are two method that you can use to convert the BGR  image to grey sclae image \n",
    "# 1st method is while loading the image in any variable you can also pass tha channel value that is color value is \"0\"\n",
    "# and then do the same process for showing the image\n",
    "image_data =cv2.imread('Ashish.png',0)\n",
    "cv2.imshow('First Image',image_data)\n",
    "cv2.waitKey(0)\n",
    "cv2.destroyAllWindows()"
   ]
  },
  {
   "cell_type": "code",
   "execution_count": 29,
   "metadata": {},
   "outputs": [],
   "source": [
    "# it is the 2nd method to convert BGR image to Grey scale image by using the fnction name is cvtColor and passing the two argument value\n",
    "# first argument value is loaded image vaiable name and second arugment is COLOR_BGR2GRAY \n",
    "# and keep the remaing process is same as to show the image \n",
    "image_data =cv2.imread('Ashish.png')\n",
    "greyscale_image = cv2.cvtColor(image_data, cv2.COLOR_BGR2GRAY)\n",
    "cv2.imshow('First Image',greyscale_image)\n",
    "cv2.waitKey(0)\n",
    "cv2.destroyAllWindows()"
   ]
  },
  {
   "cell_type": "code",
   "execution_count": 31,
   "metadata": {},
   "outputs": [
    {
     "data": {
      "text/plain": [
       "True"
      ]
     },
     "execution_count": 31,
     "metadata": {},
     "output_type": "execute_result"
    }
   ],
   "source": [
    "# After convert it into gray scale if you want to save the image then you can you the imwrite function to save the image by passing two argument \n",
    "# first argument is the name of the desired file \n",
    "# second is the image load variable \n",
    "cv2.imwrite('AshishBlackAndWhite.jpg',greyscale_image)"
   ]
  }
 ],
 "metadata": {
  "kernelspec": {
   "display_name": "Python 3",
   "language": "python",
   "name": "python3"
  },
  "language_info": {
   "codemirror_mode": {
    "name": "ipython",
    "version": 3
   },
   "file_extension": ".py",
   "mimetype": "text/x-python",
   "name": "python",
   "nbconvert_exporter": "python",
   "pygments_lexer": "ipython3",
   "version": "3.7.6"
  }
 },
 "nbformat": 4,
 "nbformat_minor": 4
}
