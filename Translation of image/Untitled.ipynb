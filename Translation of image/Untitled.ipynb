{
 "cells": [
  {
   "cell_type": "code",
   "execution_count": 2,
   "metadata": {},
   "outputs": [],
   "source": [
    "# import required library for the process\n",
    "import cv2\n",
    "import numpy as np"
   ]
  },
  {
   "cell_type": "code",
   "execution_count": null,
   "metadata": {},
   "outputs": [
    {
     "name": "stdout",
     "output_type": "stream",
     "text": [
      "960 720\n",
      "=============\n",
      "[[  1.   0. 120.]\n",
      " [  0.   1.  90.]]\n"
     ]
    }
   ],
   "source": [
    "# store the image in variable to use it \n",
    "input_image = cv2.imread('Ashish.jpg')\n",
    "\n",
    "# show the stored original image\n",
    "cv2.imshow('Original Image', input_image)\n",
    "\n",
    "# obtained the height and width of the image \n",
    "# we use parameter in last is [2] because we only want height and width not color\n",
    "height,width =input_image.shape[:2]\n",
    "print(height,width)\n",
    "print(\"=============\")\n",
    "\n",
    "# set how much translation you want \n",
    "tx, ty = height/8,width/8\n",
    "\n",
    "# creating the translation matrix using the above tx and ty value\n",
    "t=np.float32([[1,0,tx],[0,1,ty]])\n",
    "\n",
    "print (t)\n",
    "\n",
    "\n",
    "translation = cv2.warpAffine(input_image,t,(width,height))\n",
    "\n",
    "# showing the image output\n",
    "\n",
    "cv2.imshow('translation Image',translation)\n",
    "cv2.waitKey()\n",
    "cv2.destroyAllWindows()\n",
    "\n",
    "\n"
   ]
  },
  {
   "cell_type": "code",
   "execution_count": null,
   "metadata": {},
   "outputs": [],
   "source": []
  }
 ],
 "metadata": {
  "kernelspec": {
   "display_name": "Python 3",
   "language": "python",
   "name": "python3"
  },
  "language_info": {
   "codemirror_mode": {
    "name": "ipython",
    "version": 3
   },
   "file_extension": ".py",
   "mimetype": "text/x-python",
   "name": "python",
   "nbconvert_exporter": "python",
   "pygments_lexer": "ipython3",
   "version": "3.7.6"
  }
 },
 "nbformat": 4,
 "nbformat_minor": 4
}
