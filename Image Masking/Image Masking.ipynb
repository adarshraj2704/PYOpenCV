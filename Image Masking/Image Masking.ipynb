{
 "cells": [
  {
   "cell_type": "markdown",
   "metadata": {},
   "source": [
    "Image Masking"
   ]
  },
  {
   "cell_type": "code",
   "execution_count": 5,
   "metadata": {},
   "outputs": [],
   "source": [
    "# import required library\n",
    "import cv2\n",
    "import numpy as np"
   ]
  },
  {
   "cell_type": "code",
   "execution_count": 6,
   "metadata": {},
   "outputs": [],
   "source": [
    "square_image = np.zeros((400,400,1),np.uint8)\n",
    "cv2.rectangle(square_image,(75,75),(300,300),255,-2)\n",
    "cv2.imshow(\"Square\",square_image)\n",
    "cv2.waitKey(0)\n",
    "\n",
    "\n",
    "circle = np.zeros((400,400,1),np.uint8)\n",
    "cv2.circle(circle,(300,300),75,(255,0,0),-1)\n",
    "cv2.imshow(\"circle\",circle)\n",
    "cv2.waitKey(0)\n",
    "cv2.destroyAllWindows()"
   ]
  },
  {
   "cell_type": "markdown",
   "metadata": {},
   "source": [
    "BitWise Operation for image masking on shape"
   ]
  },
  {
   "cell_type": "code",
   "execution_count": 7,
   "metadata": {},
   "outputs": [],
   "source": [
    "# Showing the region wherw both square and circle intersect\n",
    "And_Operation = cv2.bitwise_and(square_image,circle)\n",
    "cv2.imshow('And Operation ',And_Operation)\n",
    "cv2.waitKey(0)\n",
    "\n",
    "\n",
    "# Showing the region where either Square or circle is intersect\n",
    "Or_Operation = cv2.bitwise_or(square_image,circle)\n",
    "cv2.imshow('Or Operation ',And_Operation)\n",
    "cv2.waitKey(0)\n",
    "\n",
    "\n",
    "# Showing the region where either Square or circle is exixts\n",
    "xOr_Operation = cv2.bitwise_xor(square_image,circle)\n",
    "cv2.imshow('xOr Operation ',xOr_Operation)\n",
    "cv2.waitKey(0)\n",
    "\n",
    "# Showing the region that isn't part of sqaure \n",
    "Not_Operation = cv2.bitwise_not(square_image,circle)\n",
    "cv2.imshow('Not Operation ',Not_Operation)\n",
    "cv2.waitKey(0)\n",
    "\n",
    "cv2.destroyAllWindows()"
   ]
  }
 ],
 "metadata": {
  "kernelspec": {
   "display_name": "Python 3",
   "language": "python",
   "name": "python3"
  },
  "language_info": {
   "codemirror_mode": {
    "name": "ipython",
    "version": 3
   },
   "file_extension": ".py",
   "mimetype": "text/x-python",
   "name": "python",
   "nbconvert_exporter": "python",
   "pygments_lexer": "ipython3",
   "version": "3.7.6"
  }
 },
 "nbformat": 4,
 "nbformat_minor": 4
}
