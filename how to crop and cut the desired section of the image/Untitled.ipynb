{
 "cells": [
  {
   "cell_type": "markdown",
   "metadata": {},
   "source": [
    "how to crop and cut the desired section of the image "
   ]
  },
  {
   "cell_type": "code",
   "execution_count": 1,
   "metadata": {},
   "outputs": [],
   "source": [
    "# import the required library\n",
    "import cv2\n",
    "import numpy as np"
   ]
  },
  {
   "cell_type": "code",
   "execution_count": 6,
   "metadata": {},
   "outputs": [
    {
     "name": "stdout",
     "output_type": "stream",
     "text": [
      "1200 1208\n"
     ]
    }
   ],
   "source": [
    "#reading our input image as using imread function\n",
    "input_image = cv2.imread('Ashish.jpg')\n",
    "height, width = input_image.shape[:2]\n",
    "\n",
    "print(height,width)\n",
    "\n",
    "# extract the pixel coordinate from starting \n",
    "\n",
    "start_row , start_col = int(height*0.20),int(width*0.20)\n",
    "\n",
    "# extract the pixel coordinate from ending bootom \n",
    "\n",
    "end_row , end_col = int(height*0.80),int(width*0.80)\n",
    "\n",
    "# using the indexing method to crop the desired section of the rectangle area\n",
    "\n",
    "\n",
    "cropped_image = input_image [start_row:end_row,start_col:end_col]\n",
    "# Display the original and croped image\n",
    "\n",
    "cv2.imshow('original image',input_image)\n",
    "\n",
    "cv2.waitKey(0)\n",
    "\n",
    "cv2.imshow ('cropped_image',cropped_image)\n",
    "\n",
    "cv2.waitKey(0)\n",
    "\n",
    "cv2.destroyAllWindows()"
   ]
  }
 ],
 "metadata": {
  "kernelspec": {
   "display_name": "Python 3",
   "language": "python",
   "name": "python3"
  },
  "language_info": {
   "codemirror_mode": {
    "name": "ipython",
    "version": 3
   },
   "file_extension": ".py",
   "mimetype": "text/x-python",
   "name": "python",
   "nbconvert_exporter": "python",
   "pygments_lexer": "ipython3",
   "version": "3.7.6"
  }
 },
 "nbformat": 4,
 "nbformat_minor": 4
}
