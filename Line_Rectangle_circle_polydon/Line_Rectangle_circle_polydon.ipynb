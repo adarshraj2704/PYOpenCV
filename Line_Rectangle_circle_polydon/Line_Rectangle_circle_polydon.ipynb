{
 "cells": [
  {
   "cell_type": "code",
   "execution_count": 36,
   "metadata": {},
   "outputs": [],
   "source": [
    "#Import the required package for the process\n",
    "import cv2\n",
    "import numpy as np"
   ]
  },
  {
   "cell_type": "markdown",
   "metadata": {},
   "source": [
    "# creating black image"
   ]
  },
  {
   "cell_type": "code",
   "execution_count": 37,
   "metadata": {},
   "outputs": [],
   "source": [
    "#Black image is created with the help of array as we all know that image ia a collection of 2-D array \n",
    "# so the zero function help to take the array value with the the help of unsigned data type \"uinit8\"\n",
    "black_image = np.zeros((512,512,3),np.uint8)\n",
    "\n",
    "cv2.imshow(\"Black Rectangle\" ,black_image)\n",
    "cv2.waitKey(0)\n",
    "cv2.destroyAllWindows()"
   ]
  },
  {
   "cell_type": "code",
   "execution_count": 33,
   "metadata": {},
   "outputs": [
    {
     "data": {
      "text/plain": [
       "True"
      ]
     },
     "execution_count": 33,
     "metadata": {},
     "output_type": "execute_result"
    }
   ],
   "source": [
    "cv2.imwrite('BlackImage.jpg',black_image)"
   ]
  },
  {
   "cell_type": "markdown",
   "metadata": {},
   "source": [
    "Draw line on the black image"
   ]
  },
  {
   "cell_type": "code",
   "execution_count": 38,
   "metadata": {},
   "outputs": [],
   "source": [
    "black_image = np.zeros((512,512,3),np.uint8)\n",
    "#we use line component from the import package \n",
    "# and pass the required argument \n",
    "# 1st argument is the varibale on which image is load \n",
    "# 2nd argument is the starting co-ordinate and 3rd argument is ending co -ordinate of the line \n",
    "# 4th argument is the channel argument that is color or RGB \n",
    "# 5th argument is the thickeness of the line \n",
    "cv2.line(black_image,(1,1),(250,250),(100,255,0),4)\n",
    "cv2.imshow(\"Line\",black_image)\n",
    "\n",
    "cv2.waitKey(0)\n",
    "cv2.destroyAllWindows()"
   ]
  },
  {
   "cell_type": "markdown",
   "metadata": {},
   "source": [
    "Draw circle on the black image "
   ]
  },
  {
   "cell_type": "code",
   "execution_count": 30,
   "metadata": {},
   "outputs": [],
   "source": [
    "black_image = np.zeros((512,512,3),np.uint8)\n",
    "# we use the circle component from imported package name CV2\n",
    "# 1st argument is the name of the load varibale on which image is stored\n",
    "# 2nd argument is the center of the circle\n",
    "# 3rd argument is the radius of the circle \n",
    "# 4th argument is the color/channel/RBG for the circle\n",
    "# 5th argument is show the thickness of the circle\n",
    "#if last argument is -1 the then the circle appear is solid color\n",
    "cv2.circle(black_image,(200,200),75,(0,0,255),4)\n",
    "cv2.imshow(\"Circle\",black_image)\n",
    "\n",
    "cv2.waitKey(0)\n",
    "cv2.destroyAllWindows()"
   ]
  },
  {
   "cell_type": "markdown",
   "metadata": {},
   "source": [
    "Draw Rectangle on the black image "
   ]
  },
  {
   "cell_type": "code",
   "execution_count": 39,
   "metadata": {},
   "outputs": [],
   "source": [
    "black_image = np.zeros((512,512,3),np.uint8)\n",
    "# we use the Rectangle component from imported package name CV2\n",
    "# 1st argument is the name of the load varibale on which image is stored\n",
    "# 2nd & 3rd argument is the Co ordinate of the rectangle.\n",
    "# 4th argument is the color/channel/RBG for the Rectangle\n",
    "# 5th argument is show the thickness of the rectangle\n",
    "cv2.rectangle(black_image,(50,100),(250,250),(100,110,40),-1)\n",
    "cv2.imshow(\"Rectangle\",black_image)\n",
    "\n",
    "cv2.waitKey(0)\n",
    "cv2.destroyAllWindows()"
   ]
  },
  {
   "cell_type": "markdown",
   "metadata": {},
   "source": [
    "if you want to write any txt on the image "
   ]
  },
  {
   "cell_type": "code",
   "execution_count": 40,
   "metadata": {},
   "outputs": [],
   "source": [
    "black_image = np.zeros((512,512,3),np.uint8)\n",
    "\n",
    "#then you can use putText component from the imported package name cv2\n",
    "# 1st argument is the name of the load varibale on which image is stored\n",
    "# 2nd argument is the string that you want to write on the image\n",
    "# 3rd argument is the starting co ordinate point of the text\n",
    "# 4th argument is the Font style of the text and 5th argument is the size of the text and last argument is the color by the thickness\n",
    "cv2.putText(black_image,'This is Ashish Ranjan',(10,100),cv2.FONT_HERSHEY_SCRIPT_COMPLEX,2,(100,17))\n",
    "cv2.imshow(\"This is Ashish\",black_image)\n",
    "\n",
    "cv2.waitKey(0)\n",
    "cv2.destroyAllWindows()"
   ]
  },
  {
   "cell_type": "markdown",
   "metadata": {},
   "source": [
    "To Draw any Polygon"
   ]
  },
  {
   "cell_type": "code",
   "execution_count": 41,
   "metadata": {},
   "outputs": [],
   "source": [
    "black_image = np.zeros((512,512,3),np.uint8)\n",
    "# these are the co ordinate point for making ploygon that are 4 corner of ploygon\n",
    "pts =np.array( [[25,65], [415,65], [80,150], [400,500]],np.int32)\n",
    "# reshape function is used to give the same of the polygon without changing their value\n",
    "pts = pts.reshape((-1,1,2))\n",
    "\n",
    "cv2.polylines(black_image, [pts] , True , (255,255,255),1)\n",
    "cv2.imshow(\"Plygon\",black_image)\n",
    "cv2.waitKey(0)\n",
    "cv2.destroyAllWindows()"
   ]
  }
 ],
 "metadata": {
  "kernelspec": {
   "display_name": "Python 3",
   "language": "python",
   "name": "python3"
  },
  "language_info": {
   "codemirror_mode": {
    "name": "ipython",
    "version": 3
   },
   "file_extension": ".py",
   "mimetype": "text/x-python",
   "name": "python",
   "nbconvert_exporter": "python",
   "pygments_lexer": "ipython3",
   "version": "3.7.6"
  }
 },
 "nbformat": 4,
 "nbformat_minor": 4
}
