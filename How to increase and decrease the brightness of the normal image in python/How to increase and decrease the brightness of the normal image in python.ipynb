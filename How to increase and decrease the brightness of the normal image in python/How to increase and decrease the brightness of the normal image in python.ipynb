{
 "cells": [
  {
   "cell_type": "markdown",
   "metadata": {},
   "source": [
    "How to increase and decrease the brightness of the normal image in python"
   ]
  },
  {
   "cell_type": "code",
   "execution_count": 2,
   "metadata": {},
   "outputs": [],
   "source": [
    "# import the required library for the process\n",
    "import cv2\n",
    "import numpy as np"
   ]
  },
  {
   "cell_type": "code",
   "execution_count": 5,
   "metadata": {},
   "outputs": [
    {
     "name": "stdout",
     "output_type": "stream",
     "text": [
      "[[[60 60 60]\n",
      "  [60 60 60]\n",
      "  [60 60 60]\n",
      "  ...\n",
      "  [60 60 60]\n",
      "  [60 60 60]\n",
      "  [60 60 60]]\n",
      "\n",
      " [[60 60 60]\n",
      "  [60 60 60]\n",
      "  [60 60 60]\n",
      "  ...\n",
      "  [60 60 60]\n",
      "  [60 60 60]\n",
      "  [60 60 60]]\n",
      "\n",
      " [[60 60 60]\n",
      "  [60 60 60]\n",
      "  [60 60 60]\n",
      "  ...\n",
      "  [60 60 60]\n",
      "  [60 60 60]\n",
      "  [60 60 60]]\n",
      "\n",
      " ...\n",
      "\n",
      " [[60 60 60]\n",
      "  [60 60 60]\n",
      "  [60 60 60]\n",
      "  ...\n",
      "  [60 60 60]\n",
      "  [60 60 60]\n",
      "  [60 60 60]]\n",
      "\n",
      " [[60 60 60]\n",
      "  [60 60 60]\n",
      "  [60 60 60]\n",
      "  ...\n",
      "  [60 60 60]\n",
      "  [60 60 60]\n",
      "  [60 60 60]]\n",
      "\n",
      " [[60 60 60]\n",
      "  [60 60 60]\n",
      "  [60 60 60]\n",
      "  ...\n",
      "  [60 60 60]\n",
      "  [60 60 60]\n",
      "  [60 60 60]]]\n"
     ]
    }
   ],
   "source": [
    "\n",
    "# load the original Image in variable \n",
    "input_image=cv2.imread('Ashish.jpg')\n",
    "cv2.imshow('original image',input_image)\n",
    "\n",
    "#For increasing and decreasing the brightness we have to add matrix and substract  matrix  on the image so the image \n",
    "# get more lighten and after substracting the image get more dimed\n",
    "# so here firstly we have to make a matrix that help in addition and substraction\n",
    "\n",
    "intensity_matrix = np.ones(input_image.shape,dtype=\"uint8\")*60\n",
    "\n",
    "# for checking the how much amout of brightness is increase or decrease by printing the intensity matrix\n",
    "\n",
    "print (intensity_matrix)\n",
    "\n",
    "# Now , for increasing the brightness of the image we have to add matrix on the original image so that the original image get lighten up\n",
    "brightened_image = cv2.add(input_image,intensity_matrix)\n",
    "cv2.imshow('Bright Image',brightened_image)\n",
    "\n",
    "\n",
    "# Now , for decreasing the brighteness of the image we have substract the intensity matrix from the original image \n",
    "darkened_image = cv2.subtract(input_image,intensity_matrix)\n",
    "cv2.imshow('Dark Image',darkened_image)\n",
    "\n",
    "cv2.waitKey(0)\n",
    "cv2.destroyAllWindows()"
   ]
  }
 ],
 "metadata": {
  "kernelspec": {
   "display_name": "Python 3",
   "language": "python",
   "name": "python3"
  },
  "language_info": {
   "codemirror_mode": {
    "name": "ipython",
    "version": 3
   },
   "file_extension": ".py",
   "mimetype": "text/x-python",
   "name": "python",
   "nbconvert_exporter": "python",
   "pygments_lexer": "ipython3",
   "version": "3.7.6"
  }
 },
 "nbformat": 4,
 "nbformat_minor": 4
}
