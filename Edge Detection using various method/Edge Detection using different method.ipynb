{
 "cells": [
  {
   "cell_type": "code",
   "execution_count": 4,
   "metadata": {},
   "outputs": [],
   "source": [
    "#import the required library\n",
    "import cv2\n",
    "import numpy as np\n",
    "\n",
    "# store the image in local variable\n",
    "imagedata_original = cv2.imread('car.jpg',0)\n",
    "\n",
    "# Extract Sobel Edges\n",
    "sobel_edg_x = cv2.Sobel(imagedata_original,cv2.CV_64F,0,1,ksize=5)\n",
    "sobel_edg_y = cv2.Sobel(imagedata_original,cv2.CV_64F,1,0,ksize=5)\n",
    "\n",
    "# Display Images\n",
    "cv2.imshow('original',imagedata_original)\n",
    "cv2.waitKey(0)\n",
    "\n",
    "cv2.imshow('Sobel X',sobel_edg_x)\n",
    "cv2.waitKey(0)\n",
    "\n",
    "cv2.imshow('Sobel y',sobel_edg_y)\n",
    "cv2.waitKey(0)\n",
    "\n",
    "# Apply Or Operation\n",
    "Or_operation = cv2.bitwise_or(sobel_edg_x,sobel_edg_y)\n",
    "cv2.imshow('or operation',Or_operation)\n",
    "cv2.waitKey(0)\n",
    "\n",
    "# Laplacian Edge Detection\n",
    "laplacian_edg_det = cv2.Laplacian(imagedata_original,cv2.CV_64F)\n",
    "cv2.imshow('LAplacian Edge Detection',laplacian_edg_det)\n",
    "cv2.waitKey(0)\n",
    "\n",
    "# Canny Edge Detection\n",
    "canny_edg = cv2.Canny(imagedata_original,30,180)\n",
    "cv2.imshow('Canny Edge Detection', canny_edg)\n",
    "cv2.waitKey(0)\n",
    "\n",
    "cv2.destroyAllWindows()\n"
   ]
  }
 ],
 "metadata": {
  "kernelspec": {
   "display_name": "Python 3",
   "language": "python",
   "name": "python3"
  },
  "language_info": {
   "codemirror_mode": {
    "name": "ipython",
    "version": 3
   },
   "file_extension": ".py",
   "mimetype": "text/x-python",
   "name": "python",
   "nbconvert_exporter": "python",
   "pygments_lexer": "ipython3",
   "version": "3.7.6"
  }
 },
 "nbformat": 4,
 "nbformat_minor": 4
}
