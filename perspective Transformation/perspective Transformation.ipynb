{
 "cells": [
  {
   "cell_type": "code",
   "execution_count": 6,
   "metadata": {},
   "outputs": [],
   "source": [
    "# import the required library\n",
    "import cv2\n",
    "import numpy as np\n",
    "import matplotlib.pyplot as plt"
   ]
  },
  {
   "cell_type": "code",
   "execution_count": 14,
   "metadata": {},
   "outputs": [],
   "source": [
    "# store the image in a variable\n",
    "input_image =cv2.imread('SamplePage.jpeg')"
   ]
  },
  {
   "cell_type": "code",
   "execution_count": 15,
   "metadata": {},
   "outputs": [
    {
     "data": {
      "text/plain": [
       "-1"
      ]
     },
     "execution_count": 15,
     "metadata": {},
     "output_type": "execute_result"
    }
   ],
   "source": [
    "# show the original image \n",
    "cv2.imshow('original Image',input_image)\n",
    "cv2.waitKey(0)"
   ]
  },
  {
   "cell_type": "code",
   "execution_count": 16,
   "metadata": {},
   "outputs": [
    {
     "data": {
      "text/plain": [
       "-1"
      ]
     },
     "execution_count": 16,
     "metadata": {},
     "output_type": "execute_result"
    }
   ],
   "source": [
    "#  write Cordinator of the four corner of the image \n",
    "\n",
    "original_coordinate = np.float32([[119,89],[849,73],[47,1153],[903,1173]])\n",
    "\n",
    "for x in range (0,4):\n",
    "    cv2.circle(input_image,(original_coordinate[x][0],original_coordinate[x][1]),5,(255,0,255),-1)\n",
    "\n",
    "\n",
    "# show the marked coordinate of the image\n",
    "cv2.imshow('coordinated image',input_image)\n",
    "cv2.waitKey(0)\n",
    "    "
   ]
  },
  {
   "cell_type": "code",
   "execution_count": 18,
   "metadata": {},
   "outputs": [],
   "source": [
    "# making the height under which image is show\n",
    "height,width = 1024,1024\n",
    "\n",
    "# coordinate of the 4 corner of the target output\n",
    "new_image = np.float32([[0,0],[width,0],[0,height],[width,height]])\n",
    "\n",
    "# use the two sets of four points to compute the prespective transformation mstrix , p \n",
    "\n",
    "p= cv2.getPerspectiveTransform(original_coordinate,new_image)\n",
    "\n",
    "perspective = cv2.warpPerspective(input_image,p,(width,height))\n",
    "\n",
    "cv2.imshow('final results',perspective)\n",
    "cv2.waitKey(0)\n",
    "cv2.destroyAllWindows()\n",
    "\n",
    "\n",
    "\n"
   ]
  }
 ],
 "metadata": {
  "kernelspec": {
   "display_name": "Python 3",
   "language": "python",
   "name": "python3"
  },
  "language_info": {
   "codemirror_mode": {
    "name": "ipython",
    "version": 3
   },
   "file_extension": ".py",
   "mimetype": "text/x-python",
   "name": "python",
   "nbconvert_exporter": "python",
   "pygments_lexer": "ipython3",
   "version": "3.7.6"
  }
 },
 "nbformat": 4,
 "nbformat_minor": 4
}
