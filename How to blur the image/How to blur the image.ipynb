{
 "cells": [
  {
   "cell_type": "markdown",
   "metadata": {},
   "source": [
    "Blur the image"
   ]
  },
  {
   "cell_type": "code",
   "execution_count": 1,
   "metadata": {},
   "outputs": [],
   "source": [
    "# import the required Library\n",
    "import cv2\n",
    "import numpy as np"
   ]
  },
  {
   "cell_type": "code",
   "execution_count": 2,
   "metadata": {},
   "outputs": [
    {
     "data": {
      "text/plain": [
       "-1"
      ]
     },
     "execution_count": 2,
     "metadata": {},
     "output_type": "execute_result"
    }
   ],
   "source": [
    "# load the input image in Image data\n",
    "\n",
    "imagedata= cv2.imread('Ashish.jpg')\n",
    "cv2.imshow('originalImage',imagedata)\n",
    "cv2.waitKey(0)\n",
    "\n",
    "\n",
    "kernel_size = np.ones((5,5),np.float32) /25\n",
    "\n",
    "blurred_Image = cv2.filter2D(imagedata,-1,kernel_size)\n",
    "cv2.imshow('kernal Size Image ', blurred_Image)\n",
    "cv2.waitKey(0)\n",
    "\n",
    "\n",
    "kernal_Size_9x9= np.ones((9,9),np.float32)/81\n",
    "blurred_Image2 = cv2.filter2D(imagedata,-1,kernal_Size_9x9)\n",
    "cv2.imshow('kernal Size Image ', blurred_Image2)\n",
    "cv2.waitKey(0)"
   ]
  },
  {
   "cell_type": "markdown",
   "metadata": {},
   "source": [
    "Other Method Are also listed below"
   ]
  },
  {
   "cell_type": "code",
   "execution_count": 7,
   "metadata": {},
   "outputs": [
    {
     "data": {
      "text/plain": [
       "-1"
      ]
     },
     "execution_count": 7,
     "metadata": {},
     "output_type": "execute_result"
    }
   ],
   "source": [
    "import cv2\n",
    "import numpy as np\n",
    "\n",
    "image_data =cv2.imread('Ashish.jpg')\n",
    "\n",
    "# Using Gaussion Filter\n",
    "gaussian_blur = cv2.GaussianBlur(image_data,(7,7),0)\n",
    "cv2.imshow('Guassian Blur ', gaussian_blur)\n",
    "cv2.waitKey(0)\n",
    "\n"
   ]
  },
  {
   "cell_type": "code",
   "execution_count": 4,
   "metadata": {},
   "outputs": [
    {
     "data": {
      "text/plain": [
       "-1"
      ]
     },
     "execution_count": 4,
     "metadata": {},
     "output_type": "execute_result"
    }
   ],
   "source": [
    "avg_blur = cv2.blur(imagedata,(3,3))\n",
    "cv2.imshow('Average Blur ', avg_blur)\n",
    "cv2.waitKey(0)"
   ]
  },
  {
   "cell_type": "code",
   "execution_count": 5,
   "metadata": {},
   "outputs": [
    {
     "data": {
      "text/plain": [
       "-1"
      ]
     },
     "execution_count": 5,
     "metadata": {},
     "output_type": "execute_result"
    }
   ],
   "source": [
    "# Median Blur\n",
    "\n",
    "median_blur = cv2.medianBlur(imagedata,5)\n",
    "cv2.imshow('median Blur ', median_blur)\n",
    "cv2.waitKey(0)"
   ]
  }
 ],
 "metadata": {
  "kernelspec": {
   "display_name": "Python 3",
   "language": "python",
   "name": "python3"
  },
  "language_info": {
   "codemirror_mode": {
    "name": "ipython",
    "version": 3
   },
   "file_extension": ".py",
   "mimetype": "text/x-python",
   "name": "python",
   "nbconvert_exporter": "python",
   "pygments_lexer": "ipython3",
   "version": "3.7.6"
  }
 },
 "nbformat": 4,
 "nbformat_minor": 4
}
