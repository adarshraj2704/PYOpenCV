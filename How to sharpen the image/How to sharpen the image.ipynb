{
 "cells": [
  {
   "cell_type": "markdown",
   "metadata": {},
   "source": [
    "# image sharpening depend on the 2 factors \n",
    "1. Resolution\n",
    "2.Acutance"
   ]
  },
  {
   "cell_type": "markdown",
   "metadata": {},
   "source": [
    "What are the needs of Sharpening the image\n",
    "      1. to overcome Blurring in the images\n",
    "      2. to Highlight certain areas of the image\n",
    "      3. to increase the legibilty "
   ]
  },
  {
   "cell_type": "code",
   "execution_count": 1,
   "metadata": {},
   "outputs": [],
   "source": [
    "# import the Required Library for the process\n",
    "\n",
    "import cv2\n",
    "import numpy as np\n",
    "\n"
   ]
  },
  {
   "cell_type": "code",
   "execution_count": 3,
   "metadata": {},
   "outputs": [],
   "source": [
    "\n",
    "# store the input image in the variable \n",
    "imagedata= cv2.imread('Ashish.JPG')\n",
    "cv2.imshow('Original Image',imagedata)\n",
    "cv2.waitKey(0)\n",
    "\n",
    "\n",
    "# create a sharpening kernel \n",
    "\n",
    "sharpening_filter = np.array([[-1,-1,-1],[-1,9,-1],[-1,-1,-1]])\n",
    "\n",
    "\n",
    "\n",
    "# Applying kernel to the input image to get image more sharpened image\n",
    "sharpened_image = cv2.filter2D(imagedata,-1,sharpening_filter)\n",
    "cv2.imshow('Sharpened Image',sharpened_image)\n",
    "cv2.waitKey(0)\n",
    "cv2.destroyAllWindows()"
   ]
  }
 ],
 "metadata": {
  "kernelspec": {
   "display_name": "Python 3",
   "language": "python",
   "name": "python3"
  },
  "language_info": {
   "codemirror_mode": {
    "name": "ipython",
    "version": 3
   },
   "file_extension": ".py",
   "mimetype": "text/x-python",
   "name": "python",
   "nbconvert_exporter": "python",
   "pygments_lexer": "ipython3",
   "version": "3.7.6"
  }
 },
 "nbformat": 4,
 "nbformat_minor": 4
}
