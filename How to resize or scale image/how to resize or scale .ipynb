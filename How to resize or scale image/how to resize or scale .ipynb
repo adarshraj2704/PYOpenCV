{
 "cells": [
  {
   "cell_type": "code",
   "execution_count": 11,
   "metadata": {},
   "outputs": [],
   "source": [
    "\n",
    "#import the required library\n",
    "import cv2\n",
    "import numpy as np\n",
    "\n",
    "\n",
    "# store the nature image in input_image variable\n",
    "input_image = cv2.imread('nature.jpg')\n",
    "\n",
    "cv2.imshow ('original Image',input_image)\n",
    "cv2.waitKey()\n",
    "\n",
    "# here use the inbuilt resize function to resize the image Size smaller by 50%\n",
    "scaled_image = cv2.resize(input_image, None , fx=0.5 ,fy=0.5)\n",
    "cv2.imshow('scaled Image',scaled_image)\n",
    "cv2.waitKey()\n",
    "\n",
    "# here use the inbuilt resize function to resize the image Size largerr by 150%\n",
    "Larged_image = cv2.resize(input_image, None , fx=1.5 ,fy=1.5)\n",
    "cv2.imshow('Larged Image',Larged_image)\n",
    "cv2.waitKey()\n",
    "\n",
    "# here use the inbuilt resize function to resize the image Size by own given value\n",
    "scaled_image3 = cv2.resize(input_image,(700,200), interpolation = cv2.INTER_AREA)\n",
    "cv2.imshow('scaling by input',scaled_image3)\n",
    "cv2.waitKey()\n",
    "\n",
    "cv2.destroyAllWindows()"
   ]
  },
  {
   "cell_type": "markdown",
   "metadata": {},
   "source": [
    "Image Pyramid"
   ]
  },
  {
   "cell_type": "code",
   "execution_count": 14,
   "metadata": {},
   "outputs": [],
   "source": [
    "#import Necessary Library\n",
    "import cv2\n",
    "\n",
    "# store the nature image in input_image\n",
    "input_image = cv2.imread('nature.jpg')\n",
    "\n",
    "\n",
    "# use the function pyrDown function from the library to decrease the size of the image \n",
    "smaller_image = cv2.pyrDown(input_image)\n",
    "\n",
    "# use the function pyrUp to increase the size of the image \n",
    "larger_image = cv2.pyrUp(input_image)\n",
    "\n",
    "cv2.imshow('original',input_image)\n",
    "\n",
    "cv2.imshow('smaller image',smaller_image)\n",
    "\n",
    "cv2.imshow('larger image',larger_image)\n",
    "\n",
    "cv2.waitKey(0)\n",
    "cv2.destroyAllWindows()\n"
   ]
  },
  {
   "cell_type": "code",
   "execution_count": null,
   "metadata": {},
   "outputs": [],
   "source": []
  }
 ],
 "metadata": {
  "kernelspec": {
   "display_name": "Python 3",
   "language": "python",
   "name": "python3"
  },
  "language_info": {
   "codemirror_mode": {
    "name": "ipython",
    "version": 3
   },
   "file_extension": ".py",
   "mimetype": "text/x-python",
   "name": "python",
   "nbconvert_exporter": "python",
   "pygments_lexer": "ipython3",
   "version": "3.7.6"
  }
 },
 "nbformat": 4,
 "nbformat_minor": 4
}
