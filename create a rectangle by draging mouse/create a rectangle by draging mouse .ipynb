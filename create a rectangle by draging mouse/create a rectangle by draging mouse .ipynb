{
 "cells": [
  {
   "cell_type": "code",
   "execution_count": 3,
   "metadata": {},
   "outputs": [],
   "source": [
    "#import required library\n",
    "import cv2\n",
    "import numpy as np"
   ]
  },
  {
   "cell_type": "code",
   "execution_count": 8,
   "metadata": {},
   "outputs": [],
   "source": [
    "# define two variable which store the mouse press value and mouse position value\n",
    "draw = False  #it will true when mouse is pressed\n",
    "ix,iy = -1,-1 # it store the mouse position \n",
    "\n",
    "# create a rectangle_shape function to draw a rectangle when mouse is pressed from correct position\n",
    "\n",
    "def rectangle_shape (event,x,y,warning,par):\n",
    "    global draw,ix,iy\n",
    "    \n",
    "    # checking the event that mouse is clicked orr not \n",
    "    if event ==cv2.EVENT_LBUTTONDOWN:\n",
    "        # change the value of draw from false to true when mouse is draged from the top to down\n",
    "        draw = True\n",
    "        #mouse location is saved in the created variable\n",
    "        ix,iy = x,y\n",
    "     \n",
    "    #checking the mouse is draged or not----\n",
    "    elif event == cv2.EVENT_MOUSEMOVE:\n",
    "        # if it draged then draw will be set to true\n",
    "        if draw ==True:\n",
    "            #if the draw value is true then it means it clicked the mouse left button\n",
    "            # so the rectangle is created accroding to the given value\n",
    "            cv2.rectangle (image_window,(ix,iy),(x,y),(255,0,255),-1)\n",
    "          \n",
    "    #this event identify the mouse is released and not moving    \n",
    "    elif event ==cv2.EVENT_LBUTTONUP:\n",
    "        draw = False\n",
    "        # so the draw value become false\n",
    "        #here we complete to draw the rectangle on image window\n",
    "        cv2.rectangle (image_window,(ix,iy),(x,y),(255,0,255),-1)\n",
    "            \n",
    "            \n",
    "# creating a black image window\n",
    "image_window = np.zeros((1024,1024,3),np.uint8)\n",
    "\n",
    "#naming the window reference\n",
    "cv2.namedWindow(winname='Image_Window')\n",
    "\n",
    "#connecting the mouse button to the callback function\n",
    "\n",
    "cv2.setMouseCallback('Image_Window',rectangle_shape)\n",
    "\n",
    "while True:  # keep the black image window is open untill we press with Esc key\n",
    "    \n",
    "    \n",
    "    # showing the image window\n",
    "    cv2.imshow('Image_Window',image_window)\n",
    "    \n",
    "    #coming out of the window by press Esc key\n",
    "    if cv2.waitKey(1) & 0xff ==27:\n",
    "        break\n",
    "        \n",
    "cv2.destroyAllWindows()\n"
   ]
  }
 ],
 "metadata": {
  "kernelspec": {
   "display_name": "Python 3",
   "language": "python",
   "name": "python3"
  },
  "language_info": {
   "codemirror_mode": {
    "name": "ipython",
    "version": 3
   },
   "file_extension": ".py",
   "mimetype": "text/x-python",
   "name": "python",
   "nbconvert_exporter": "python",
   "pygments_lexer": "ipython3",
   "version": "3.7.6"
  }
 },
 "nbformat": 4,
 "nbformat_minor": 4
}
