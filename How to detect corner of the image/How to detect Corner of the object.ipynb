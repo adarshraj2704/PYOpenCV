{
 "cells": [
  {
   "cell_type": "markdown",
   "metadata": {},
   "source": [
    "How to detect Corner of the object"
   ]
  },
  {
   "cell_type": "code",
   "execution_count": 3,
   "metadata": {},
   "outputs": [],
   "source": [
    "import cv2\n",
    "import numpy as np"
   ]
  },
  {
   "cell_type": "code",
   "execution_count": 4,
   "metadata": {},
   "outputs": [],
   "source": [
    "imagedata = cv2.imread('chess.png')\n",
    "cv2.imshow('Original Image',imagedata)\n",
    "cv2.waitKey(0)\n",
    "\n",
    "grayscale = cv2.cvtColor(imagedata,cv2.COLOR_BGR2GRAY)\n",
    "\n",
    "grayscale = np.float32(grayscale)\n",
    "\n",
    "harr_corner_info = cv2.cornerHarris(grayscale,3,3,0.05)\n",
    "\n",
    "kernel = np.ones((7,7),np.uint8)\n",
    "harr_corner_info = cv2.dilate(harr_corner_info,kernel,iterations =2)\n",
    "\n",
    "imagedata [harr_corner_info > 0.025 * harr_corner_info.max() ] = [255,0,255]\n",
    "\n",
    "cv2.imshow('Corner of the image' , imagedata)\n",
    "cv2.waitKey(0)\n",
    "cv2.destroyAllWindows()"
   ]
  }
 ],
 "metadata": {
  "kernelspec": {
   "display_name": "Python 3",
   "language": "python",
   "name": "python3"
  },
  "language_info": {
   "codemirror_mode": {
    "name": "ipython",
    "version": 3
   },
   "file_extension": ".py",
   "mimetype": "text/x-python",
   "name": "python",
   "nbconvert_exporter": "python",
   "pygments_lexer": "ipython3",
   "version": "3.7.6"
  }
 },
 "nbformat": 4,
 "nbformat_minor": 4
}
