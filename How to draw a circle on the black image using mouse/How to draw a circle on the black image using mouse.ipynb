{
 "cells": [
  {
   "cell_type": "markdown",
   "metadata": {},
   "source": [
    "# How to draw circle or any shape using mouse on the image"
   ]
  },
  {
   "cell_type": "markdown",
   "metadata": {},
   "source": [
    "draw a colored circle by left mouse clicked on black image "
   ]
  },
  {
   "cell_type": "code",
   "execution_count": 10,
   "metadata": {},
   "outputs": [],
   "source": [
    "#import the required libraries and used for this process \n",
    "import cv2\n",
    "import numpy as np"
   ]
  },
  {
   "cell_type": "code",
   "execution_count": 11,
   "metadata": {},
   "outputs": [],
   "source": [
    "# create a circle shape function to draw a circle using mouse when left button is clicked\n",
    "# 1st argument of the function is the event that listen right or left button is clicked\n",
    "# 2nd argument is for taking the center when mouse is clicked \n",
    "# 3rd argument is used for reflecting any types of warning if occurs during the excecution of the program\n",
    "# 4th argument is used for giving some extra task \n",
    "def circle_shape (event,x,y,warning,par):\n",
    "    # it listen the which button is clicked\n",
    "    if event ==cv2.EVENT_LBUTTONDOWN:\n",
    "        #Arguments are load image variable, center that is taken by the mouse , radius of the circle,color for the circle and last is define the solid cirlce\n",
    "        cv2.circle(image_window,(x,y),50,(255,255,0),-1)\n",
    "        \n",
    "  # giving the name of the open dialog box      \n",
    "cv2.namedWindow(winname ='Image_Window')\n",
    "\n",
    "# setMouseCallback function is used to conect the mouse action to the function\n",
    "cv2.setMouseCallback('Image_Window',circle_shape)\n",
    "# creating black image\n",
    "image_window = np.zeros((1024,1024,3),np.uint8)\n",
    "\n",
    "while True: # keep open the black image untill we brak with Esc key\n",
    "    cv2.imshow('Image_Window',image_window)\n",
    "    \n",
    "    if cv2.waitKey(20) ==27:\n",
    "        break\n",
    "cv2.destroyAllWindows()"
   ]
  },
  {
   "cell_type": "markdown",
   "metadata": {},
   "source": [
    "draw a colored circle by Two different mouse button clicked on left mouse clicked sky blue circle is appeared and on right clicked Red colored circle is appeared on black image "
   ]
  },
  {
   "cell_type": "code",
   "execution_count": 12,
   "metadata": {},
   "outputs": [],
   "source": [
    "# create a circle shape function to draw a circle using mouse when left button is clicked\n",
    "# 1st argument of the function is the event that listen right or left button is clicked\n",
    "# 2nd argument is for taking the center when mouse is clicked \n",
    "# 3rd argument is used for reflecting any types of warning if occurs during the excecution of the program\n",
    "# 4th argument is used for giving some extra task \n",
    "def circle_shape (event,x,y,warning,par):\n",
    "    # it listen the which button is clicked\n",
    "    if event ==cv2.EVENT_LBUTTONDOWN:\n",
    "        #Arguments are load image variable, center that is taken by the mouse , radius of the circle,color for the circle and last is define the solid cirlce\n",
    "        cv2.circle(image_window,(x,y),50,(255,255,0),-1)\n",
    "    elif event ==cv2.EVENT_RBUTTONDOWN:\n",
    "        cv2.circle(image_window,(x,y),50,(0,0,255),-1)\n",
    "        \n",
    "  # giving the name of the open dialog box      \n",
    "cv2.namedWindow(winname ='Image_Window')\n",
    "\n",
    "# setMouseCallback function is used to conect the mouse action to the function\n",
    "cv2.setMouseCallback('Image_Window',circle_shape)\n",
    "# creating black image\n",
    "image_window = np.zeros((1024,1024,3),np.uint8)\n",
    "\n",
    "while True: # keep open the black image untill we brak with Esc key\n",
    "    cv2.imshow('Image_Window',image_window)\n",
    "    \n",
    "    if cv2.waitKey(20) ==27:\n",
    "        break\n",
    "cv2.destroyAllWindows()"
   ]
  },
  {
   "cell_type": "code",
   "execution_count": null,
   "metadata": {},
   "outputs": [],
   "source": []
  }
 ],
 "metadata": {
  "kernelspec": {
   "display_name": "Python 3",
   "language": "python",
   "name": "python3"
  },
  "language_info": {
   "codemirror_mode": {
    "name": "ipython",
    "version": 3
   },
   "file_extension": ".py",
   "mimetype": "text/x-python",
   "name": "python",
   "nbconvert_exporter": "python",
   "pygments_lexer": "ipython3",
   "version": "3.7.6"
  }
 },
 "nbformat": 4,
 "nbformat_minor": 4
}
